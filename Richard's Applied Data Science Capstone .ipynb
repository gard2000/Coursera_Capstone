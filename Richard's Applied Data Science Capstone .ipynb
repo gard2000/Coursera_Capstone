{
    "cells": [
        {
            "cell_type": "markdown",
            "metadata": {
                "collapsed": true
            },
            "source": "# Applied Data Science Capstone Project Notebook\nThis Notebook will be used for Richard Garrison's IBM Applied Data Science Capstone Notebook"
        },
        {
            "cell_type": "markdown",
            "metadata": {},
            "source": "# INTRODUCTION"
        },
        {
            "cell_type": "markdown",
            "metadata": {},
            "source": "Are you an aspiring entreprenuer with a great B2C business concept that now needs to find that perfect loction?  This project will find you that perfect spot.\n\nWhen your small B2C business requires a physical location for consumers to engage with you, selecting the right location for your small business concept is almost as important as the conept, branding, price, product placement, and promotions.  Imagine trying to make a Prada store successful in a rural nighborhood with an average income level of $25,000 per year.   Success is just not going to happen.\n\nBut where will my concept be successful?  That answer often lies in finding other succesful similar B2Cs, deternmining where there is a similar set of demographics and space left in the market place.  That search can be daunting, but with a little help from data analytics, you can find those locations that can support your B2C success: Demographics proven to support your B2C concept's success in a market that is not over crowded.\n\nWhile the right location will not ensure success, at least you will not be a Prada store in Duluth, AL."
        },
        {
            "cell_type": "markdown",
            "metadata": {},
            "source": "# Problem Statement"
        },
        {
            "cell_type": "markdown",
            "metadata": {},
            "source": "## Problem\nUser:  Entreprenuer looking for best location to establish a new B2C physical location\n\nProblem User is solving with this solution:\nGiven a user defined City, State and venue type (Category and price point if applicable);\nFind zip codes that are similar to those zip codes in the defined city, state that:\n(a) Have similar venues to user proposed venue that have been successful\nand\n(b) Room in the market for an additional venue\n\n## Related Sub-problems required to be addressed and required data\n\n### 1. Define Similar Zip Codes\n\n\n<table style=\"width:90%;border:1; border-padding: 10px; border-collapse: separate\">\n<tr >\n    <th style=\"width:40%; border:1px solid black; text-align:center\">Assumption for answering</th>\n    <th style=\"width:30%; border:1px solid black; text-align:center\">Data Required - Source</th>\n     <th style=\"width:20%; border:1px solid black; text-align:center\">Notes</th>   \n</tr> \n<tr >\n    <td style=\"border:1px solid black; text-align:left\">Will initially look at the below factors to determine comparable zip codes/ neighborhoods:\n        <ol><li>Frequency of venue categories- finding people with similar needs and preferences</li> \n            <li># residences and # of business- from both a size perspective and residential versus business focus</li>\n            <li>Average home price- indicator of income level</li>\n            <li># of vacant homes- can indicate an urbanization underway</li>\n            <li># of homes sold in last 30 days- can indicate the mobility of this area</li>\n            <li>Average household income- indicator of income level</li>\n            <li>Average age of residents- preferences and needs vary by age groups</li>\n        </ol>\n    </td>\n    <td style=\"border:1px solid black; text-align:left\">\n        <ol><li>City and State to search within- User input</li>\n            <li>Price point (using 1-4 based upon Foursquare definition)- User input</li>\n            <li>All zip codes in city, state- Mellisa zip code api </li>\n            <li>Zip code latitude / longitude- Mellisa zip code api</li>\n            <li>Venues (category for now, but pull: name, id, price, and address for later)  in each zip code- Foursquare</li> \n            <li># residences and # of business- Mellisa zip code api</li>\n            <li>Average home price- Mellisa zip code api</li>\n            <li># of vacant homes- Mellisa zip code api</li>\n            <li># of homes sold in last 30 days- Mellisa zip code api</li>\n            <li># residential homes- Mellisa carrier route api</li>\n            <li>Average household income- Mellisa carrier route api</li>\n            <li>Average age of residents- Mellisa carrier route api</li>\n            <li>Number of people in carrier route- Mellisa carier route api</li>\n        </ol>\n    </td>\n    <td style=\"border:1px solid black; text-align:left\">\n       <ul><li>Zip code latitude and longitude will be sent to Foursquare with a radius of 4 miles to set \"neighborhood\" for comparison to get venues</li><br>\n           <li>Zip code will be sent to Mellisa carrier route api to ge all of the carrier routes within that zip code and the average HHI and age.  A weighted average for the zip code will be calculated utilizing the # residents in carrier route.</li>\n        </ul>    \n    </td>\n</tr>\n</table>\n\n### 2. Find similar venues to that provided by user in zip codes within the city provided by user and determine if successful\n\n\n<table style=\"width:90%;border:1; border-padding: 10px; border-collapse: separate\">\n<tr >\n    <th style=\"width:40%; border:1px solid black; text-align:center\">Assumption for answering</th>\n    <th style=\"width:30%; border:1px solid black; text-align:center\">Data Required - Source</th>\n     <th style=\"width:20%; border:1px solid black; text-align:center\">Notes</th>   \n</tr> \n<tr >\n    <td style=\"border:1px solid black; text-align:left\">Will initially look at the below factors to determine similar venues:\n        <br>\n        <ol><li>Venue category</li> \n            <li>Price point</li>\n        </ol>\n    </td>\n    <td style=\"border:1px solid black; text-align:left\">\n        <ol><li>Reuse:</li>\n            <ul><li>City and State to search within</li>\n                <li>Price point (using 1-4 based upon Foursquare definition)</li>\n                <li>All zip codes in city, state</li>\n                <li>Zip code latitude / longitude</li>\n                <li>Venues (category, name, id, and price) in each zip code</li>\n            </ul>\n            <li>New data: none</li>\n        </ol>\n    </td>\n    <td style=\"border:1px solid black; text-align:left\">\n       <ul><li>While venue name, id, price are not needed for previous problem, will retrieve this data from Fouresquare for this step at that time </li><br>\n           <li>For each zip code, will determine similar venues where category and price match</li>\n        </ul>    \n    </td>\n</tr>\n<tr >\n<td style=\"border:1px solid black; text-align:left\">Will initially look at the below factors to determine if similar venues are successful:\n    <br>\n    <ol><li>Being Seen = Traffic and Sales= Success. Baesed upon research on the ranking in Google by Bright Local on 93,845 businesses in 26 industries:</li>\n        <ul><li>What did the research show:</li>\n            <ul>\n                <li>Average rating of consumer based venues ranked 1-10 is 4.42</li>\n                <li>Average rank 1-3 had 47 reviews with a minimum of 3.6 rating</li>\n                <li>Average rank of 4-6 had 40 reviews with a minimum 3.4 rating</li>\n                <li>Ranking of 7-10 had an average of 38 reviews qith a 3.3 rating</li>\n                <li>Correlates to Podium research which showed 3.3 is the minimum rating conumers will consider</li>\n            </ul>\n            <li>Which leads to these factors:</li>\n            <ol><li>Rating of 4.0- 90% of consumer based venues</li>\n                <li># User ratings = 40- mid-range of ranking</li>\n            </ol>\n        </ul>\n        <li># Check INs above average- shows usage</li>\n        <li># Users checking in above average- shows usage</li>\n        <li># likes above average- shows usage</li>\n        <li># tips above average- shows usage</li>\n        <li>Created at- longevity of the business beyond newness</li>\n        <li> Permanently_closed- verify business is still in business</li>\n    </ol>\n    <br>\n    <br>\n    A list of successful similar venues and unsuccessful similar venues will be created by zip code.\n</td>\n<td style=\"border:1px solid black; text-align:left\">\n    <ol><li>Venues (id and address) from those determined to be similar in above step, already pulled through Foursquare</li>\n        <li>Rating- Foursquare</li>\n        <li># User ratings- Foursquare</li>\n        <li># Check INs- Foursquare</li>\n        <li># Users checking in- Foursquare</li>\n        <li># likes- Foursquare</li>\n        <li># tips- Foursquare</li>\n        <li>Created at- Foursquare</li>\n        <li> Permanently_closed- Google Places</li>        \n    </ol>\n</td>\n<td style=\"border:1px solid black; text-align:left\">\n   <ul><li>Venue address was not needed for previous problems, will retrieve this data from Fouresquare in first step</li><br>\n       <li>Will send Venue address from Foursquare to Google Places to correlate venues to pull Permanently closed status from Google Places</li>\n    </ul>    \n</td>\n</tr>\n</table>\n\n### 3. For successful similar venues determine what zip codes they are in, similar zip codes to those, and is there room in the market for an additional venue in those zip codes\n\n\n<table style=\"width:90%;border:1; border-padding: 10px; border-collapse: separate\">\n<tr >\n    <th style=\"width:40%; border:1px solid black; text-align:center\">Assumption for answering</th>\n    <th style=\"width:30%; border:1px solid black; text-align:center\">Data Required - Source</th>\n     <th style=\"width:20%; border:1px solid black; text-align:center\">Notes</th>   \n</tr> \n<tr >\n    <td style=\"border:1px solid black; text-align:left\">From the list of successful and unsuccessful similar venues, determine the zip codes in the top Qurtile for % of successful similar venues and the those in the bottom 50%.  In seeing if market spaces exists, we will use the zip codes in the top Qurtile for % of successful similar venues.  Additionally, from these lists, find zip codes that:\n        <br><br>\n        (a) Are similar to those zip codes and in the top quartile list<br>\n        (b) That are NOT also similar to a zip code on the bottom 50%<br>\n        <br>Note: This will be a determinant to see if this methodology will work or exclude.  Should see that similar zip codes for the top 25% are not similar to those on the bottom 50% if this method can truley show potential for success.\n    </td>\n    <td style=\"border:1px solid black; text-align:left\">\n        <ol><li>New data: none</li>\n        </ol>\n    </td>\n    <td style=\"border:1px solid black; text-align:left\">\n        The similar zip codes analysis from part one will be utilized in this section.\n    </td>\n</tr>\n<tr >\n<td style=\"border:1px solid black; text-align:left\">For the list of zip codes meeting the step above determine if market space exists for new venue.  I will define market space as:\n    <br>\n    <ol><li>For zip codes with zero simialr venues: Is zip code similar to zip codes on the top quartile list?</li>\n        <br>\n        -OR-\n        <br><br>\n        <li> For zip codes alread on the top quartile list- the zip code has at least 2 fewer similar successful venues than the average number of successfull venues per total population in the top quartile zip codes</li>\n    </ol>\n    <br><br>\n    Note: If a venue had a similar venue, than we only need to review the top quartile list, as other zip codes are not considered highly successful.\n</td>\n<td style=\"border:1px solid black; text-align:left\">\n    <ol><li>Reuse:</li>\n            <ul><li>Population of zip code</li>\n            </ul>\n        <br>\n        <li>Calculated:</li>\n            <ul><li>Average number of successful venues per total population for zip codes in the top quartile</li>\n            </ul>\n    </ol>\n</td>\n<td style=\"border:1px solid black; text-align:left\">\n</td>\n</tr>\n</table>\n\n\n"
        },
        {
            "cell_type": "code",
            "execution_count": 5,
            "metadata": {},
            "outputs": [],
            "source": "import pandas as pd\nimport numpy as np"
        },
        {
            "cell_type": "code",
            "execution_count": 2,
            "metadata": {},
            "outputs": [
                {
                    "name": "stdout",
                    "output_type": "stream",
                    "text": "Hello Capstone Project Course!\n"
                }
            ],
            "source": "print(\"Hello Capstone Project Course!\")"
        },
        {
            "cell_type": "code",
            "execution_count": null,
            "metadata": {},
            "outputs": [],
            "source": ""
        }
    ],
    "metadata": {
        "kernelspec": {
            "display_name": "Python 3.6",
            "language": "python",
            "name": "python3"
        },
        "language_info": {
            "codemirror_mode": {
                "name": "ipython",
                "version": 3
            },
            "file_extension": ".py",
            "mimetype": "text/x-python",
            "name": "python",
            "nbconvert_exporter": "python",
            "pygments_lexer": "ipython3",
            "version": "3.6.9"
        }
    },
    "nbformat": 4,
    "nbformat_minor": 1
}